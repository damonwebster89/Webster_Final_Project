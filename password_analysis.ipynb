{
 "cells": [
  {
   "cell_type": "code",
   "execution_count": null,
   "id": "initial_id",
   "metadata": {
    "collapsed": true
   },
   "outputs": [],
   "source": [
    "import matplotlib.pyplot as plt\n",
    "from password_analyzer import score_password\n",
    "\n",
    "passwords = [\"123456\", \"DamonISTHb3$t\", \"Tr0ub4dor&3xplor3r\"]\n",
    "scores = [score_password(pwd)[0] for pwd in passwords]\n",
    "plt.bar(passwords, scores)\n",
    "plt.xlabel(\"Passwords\")\n",
    "plt.ylabel(\"Strength Score (0-4)\")\n",
    "plt.title(\"Password Strength Analysis\")\n",
    "plt.xticks(rotation=45)\n",
    "plt.tight_layout()\n",
    "plt.show()"
   ]
  }
 ],
 "metadata": {
  "kernelspec": {
   "display_name": "Python 3",
   "language": "python",
   "name": "python3"
  },
  "language_info": {
   "codemirror_mode": {
    "name": "ipython",
    "version": 2
   },
   "file_extension": ".py",
   "mimetype": "text/x-python",
   "name": "python",
   "nbconvert_exporter": "python",
   "pygments_lexer": "ipython2",
   "version": "2.7.6"
  }
 },
 "nbformat": 4,
 "nbformat_minor": 5
}
