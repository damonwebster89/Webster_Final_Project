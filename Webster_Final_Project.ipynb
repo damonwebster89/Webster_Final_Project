{
 "cells": [
  {
   "metadata": {
    "ExecuteTime": {
     "end_time": "2025-10-24T09:27:48.940899Z",
     "start_time": "2025-10-24T09:27:32.769317Z"
    }
   },
   "cell_type": "code",
   "source": [
    "import re\n",
    "from zxcvbn import zxcvbn\n",
    "import sqlite3\n",
    "import logging\n",
    "\n",
    "# Setup logging for automation alerts\n",
    "logging.basicConfig(level=logging.INFO)\n",
    "\n",
    "def check_length(password: str) -> bool:\n",
    "    \"\"\"Checks if password meets minimum length of 12 characters.\"\"\"\n",
    "    return len(password) >= 12\n",
    "\n",
    "def check_diversity(password: str) -> dict:\n",
    "    \"\"\"Uses regex to verify character types: uppercase, lowercase, digits, symbols.\"\"\"\n",
    "    patterns = {\n",
    "        'uppercase': re.compile(r'[A-Z]'),\n",
    "        'lowercase': re.compile(r'[a-z]'),\n",
    "        'digits': re.compile(r'\\d'),\n",
    "        'symbols': re.compile(r'[!@#$%^&*(),.?\":{}|<>]')\n",
    "    }\n",
    "    return {k: bool(p.search(password)) for k, p in patterns.items()}\n",
    "\n",
    "def check_common_words(password: str) -> bool:\n",
    "    \"\"\"Queries SQLite DB for matches against common weak passwords.\"\"\"\n",
    "    try:\n",
    "        conn = sqlite3.connect('weak_passwords.db')\n",
    "        cursor = conn.cursor()\n",
    "        cursor.execute(\"SELECT 1 FROM weak_passwords WHERE password = ?\", (password,))\n",
    "        result = cursor.fetchone()\n",
    "        conn.close()\n",
    "        return result is not None  # True if weak\n",
    "    except sqlite3.Error as e:\n",
    "        logging.error(f\"Database error: {e}\")\n",
    "        return False\n",
    "\n",
    "def score_password(password: str) -> tuple:\n",
    "    \"\"\"Combines zxcvbn guesses_log10 with custom checks for overall score (0-4: weak to strong).\"\"\"\n",
    "    try:\n",
    "        results = zxcvbn(password)\n",
    "        # Use guesses_log10 instead of entropy\n",
    "        guesses_log10 = results.get('guesses_log10', 0)  # Fallback to 0 if key missing\n",
    "        diversity = check_diversity(password)\n",
    "        num_types = sum(diversity.values())\n",
    "        custom_score = 0\n",
    "        if check_length(password):\n",
    "            custom_score += 1\n",
    "        if num_types >= 3:\n",
    "            custom_score += 1\n",
    "        if not check_common_words(password):\n",
    "            custom_score += 1\n",
    "        if not re.search(r'(.)\\1{2,}', password):  # No repeating chars\n",
    "            custom_score += 1\n",
    "        if not re.search(r'(\\d\\d|abc|qwerty)', password):  # No sequences\n",
    "            custom_score += 1\n",
    "        # Normalize score using guesses_log10 (e.g., >10 is strong)\n",
    "        overall_score = min(4, (guesses_log10 / 10) + custom_score)\n",
    "        strength = ['Weak', 'Medium', 'Strong', 'Very Strong'][int(overall_score)]\n",
    "        suggestions = results.get('feedback', {}).get('suggestions', [])\n",
    "        return overall_score, strength, suggestions\n",
    "    except Exception as e:\n",
    "        logging.error(f\"Error in score_password: {e}\")\n",
    "        return 0, \"Weak\", [\"Unable to analyze password; try again.\"]\n",
    "\n",
    "def suggest_improvements(password: str) -> list:\n",
    "    \"\"\"Generates tips based on failed checks.\"\"\"\n",
    "    tips = []\n",
    "    if not check_length(password):\n",
    "        tips.append(\"Increase length to at least 12 characters.\")\n",
    "    diversity = check_diversity(password)\n",
    "    missing = [k for k, v in diversity.items() if not v]\n",
    "    if missing:\n",
    "        tips.append(f\"Add {', '.join(missing)} characters.\")\n",
    "    if check_common_words(password):\n",
    "        tips.append(\"Avoid common words; use unique phrases.\")\n",
    "    return tips\n",
    "\n",
    "# Example usage with logging\n",
    "if __name__ == \"__main__\":\n",
    "    pwd = input(\"Enter password: \")\n",
    "    score, strength, zxcvbn_tips = score_password(pwd)\n",
    "    tips = suggest_improvements(pwd)\n",
    "    print(f\"Score: {score:.1f}/4 - {strength}\")\n",
    "    print(\"Suggestions:\", tips + zxcvbn_tips)\n",
    "    if score < 2:\n",
    "        logging.warning(f\"Weak password detected: {pwd[:3]}***\")"
   ],
   "id": "543ac73455b255e1",
   "outputs": [
    {
     "name": "stderr",
     "output_type": "stream",
     "text": [
      "ERROR:root:Database error: no such table: weak_passwords\n",
      "ERROR:root:Error in score_password: list index out of range\n",
      "ERROR:root:Database error: no such table: weak_passwords\n",
      "WARNING:root:Weak password detected: CYB***\n"
     ]
    },
    {
     "name": "stdout",
     "output_type": "stream",
     "text": [
      "Score: 0.0/4 - Weak\n",
      "Suggestions: ['Unable to analyze password; try again.']\n"
     ]
    }
   ],
   "execution_count": 9
  }
 ],
 "metadata": {
  "kernelspec": {
   "display_name": "Python 3",
   "language": "python",
   "name": "python3"
  },
  "language_info": {
   "codemirror_mode": {
    "name": "ipython",
    "version": 2
   },
   "file_extension": ".py",
   "mimetype": "text/x-python",
   "name": "python",
   "nbconvert_exporter": "python",
   "pygments_lexer": "ipython2",
   "version": "2.7.6"
  }
 },
 "nbformat": 4,
 "nbformat_minor": 5
}
