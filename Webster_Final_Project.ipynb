#Password Eval

def get_suggestions(evaluation, password):
    results = zxcvbn(password)
    suggestions = results['feedback']['suggestions']  # zxcvbn's advice
    
    # Custom suggestions
    if evaluation['length'] < 12:
        suggestions.append("Increase length to at least 12 characters.")
    if not all(evaluation['diversity'].values()):
        missing = [k for k, v in evaluation['diversity'].items() if not v]
        suggestions.append(f"Add {', '.join(missing)} characters.")
    if evaluation['repetitive']:
        suggestions.append("Avoid repetitive characters (e.g., 'aaa').")
    if evaluation['sequential']:
        suggestions.append("Avoid sequential patterns (e.g., '123' or 'abc').")
    if evaluation['dictionary_match']:
        suggestions.append("Avoid common dictionary words or patterns.")
    
    return suggestions

# Example
eval_result = evaluate_password("P@ssw0rd123")
print(get_suggestions(eval_result, "P@ssw0rd123"))
