{
 "cells": [
  {
   "metadata": {
    "ExecuteTime": {
     "end_time": "2025-10-24T10:22:31.388559Z",
     "start_time": "2025-10-24T10:22:17.978415Z"
    }
   },
   "cell_type": "code",
   "source": [
    "import re\n",
    "from zxcvbn import zxcvbn\n",
    "import sqlite3\n",
    "import logging\n",
    "import os\n",
    "\n",
    "# Setup logging for automation alerts\n",
    "logging.basicConfig(level=logging.INFO)\n",
    "\n",
    "def check_length(password: str) -> bool:\n",
    "    \"\"\"Checks if password meets minimum length of 12 characters.\"\"\"\n",
    "    return len(password) >= 12\n",
    "\n",
    "def check_diversity(password: str) -> dict:\n",
    "    \"\"\"Uses regex to verify character types: uppercase, lowercase, digits, symbols.\"\"\"\n",
    "    patterns = {\n",
    "        'uppercase': re.compile(r'[A-Z]'),\n",
    "        'lowercase': re.compile(r'[a-z]'),\n",
    "        'digits': re.compile(r'\\d'),\n",
    "        'symbols': re.compile(r'[!@#$%^&*(),.?\":{}|<>]')\n",
    "    }\n",
    "    return {k: bool(p.search(password)) for k, p in patterns.items()}\n",
    "\n",
    "def check_common_words(password: str) -> bool:\n",
    "    \"\"\"Queries SQLite DB for matches against common weak passwords.\"\"\"\n",
    "    try:\n",
    "        db_path = os.path.join(os.path.dirname(__file__), 'weak_passwords.db') if '__file__' in globals() else os.path.join(os.getcwd(), 'weak_passwords.db')\n",
    "        conn = sqlite3.connect(db_path)\n",
    "        cursor = conn.cursor()\n",
    "        cursor.execute(\"SELECT 1 FROM weak_passwords WHERE password = ?\", (password,))\n",
    "        result = cursor.fetchone()\n",
    "        conn.close()\n",
    "        return result is not None\n",
    "    except sqlite3.Error as e:\n",
    "        logging.error(f\"Database error: {e}\")\n",
    "        return False\n",
    "\n",
    "def score_password(password: str) -> tuple:\n",
    "    \"\"\"Combines zxcvbn guesses_log10 with custom checks for overall score (0-4: weak to strong).\"\"\"\n",
    "    try:\n",
    "        results = zxcvbn(password)\n",
    "        guesses_log10 = results.get('guesses_log10', 0)\n",
    "        diversity = check_diversity(password)\n",
    "        num_types = sum(diversity.values())\n",
    "        custom_score = 0\n",
    "        if check_length(password):\n",
    "            custom_score += 1\n",
    "        if num_types >= 3:\n",
    "            custom_score += 1\n",
    "        if not check_common_words(password):\n",
    "            custom_score += 1\n",
    "        if not re.search(r'(.)\\1{2,}', password):\n",
    "            custom_score += 1\n",
    "        if not re.search(r'(\\d\\d|abc|qwerty)', password):\n",
    "            custom_score += 1\n",
    "        overall_score = min(4, max(0, (guesses_log10 / 15) + custom_score))  # Adjusted normalization\n",
    "        index = min(3, max(0, int(overall_score)))  # Clamp index to 0-3\n",
    "        strength = ['Weak', 'Medium', 'Strong', 'Very Strong'][index]\n",
    "        suggestions = results.get('feedback', {}).get('suggestions', [])\n",
    "        logging.debug(f\"Debug: guesses_log10={guesses_log10}, custom_score={custom_score}, overall_score={overall_score}\")\n",
    "        return overall_score, strength, suggestions\n",
    "    except Exception as e:\n",
    "        logging.error(f\"Error in score_password: {e}\")\n",
    "        return 0, \"Weak\", [\"Unable to analyze password; try again.\"]\n",
    "\n",
    "def suggest_improvements(password: str) -> list:\n",
    "    \"\"\"Generates tips based on failed checks.\"\"\"\n",
    "    tips = []\n",
    "    if not check_length(password):\n",
    "        tips.append(\"Increase length to at least 12 characters.\")\n",
    "    diversity = check_diversity(password)\n",
    "    missing = [k for k, v in diversity.items() if not v]\n",
    "    if missing:\n",
    "        tips.append(f\"Add {', '.join(missing)} characters.\")\n",
    "    if check_common_words(password):\n",
    "        tips.append(\"Avoid common words; use unique phrases.\")\n",
    "    return tips\n",
    "\n",
    "if __name__ == \"__main__\":\n",
    "    pwd = input(\"Enter password: \")\n",
    "    score, strength, zxcvbn_tips = score_password(pwd)\n",
    "    tips = suggest_improvements(pwd)\n",
    "    print(f\"Score: {score:.1f}/4 - {strength}\")\n",
    "    print(\"Suggestions:\", tips + zxcvbn_tips)\n",
    "    if score < 2:\n",
    "        logging.warning(f\"Weak password detected: {pwd[:3]}***\")"
   ],
   "id": "543ac73455b255e1",
   "outputs": [
    {
     "name": "stdout",
     "output_type": "stream",
     "text": [
      "Score: 4.0/4 - Very Strong\n",
      "Suggestions: []\n"
     ]
    }
   ],
   "execution_count": 16
  },
  {
   "metadata": {
    "ExecuteTime": {
     "end_time": "2025-10-24T10:22:31.430626Z",
     "start_time": "2025-10-24T10:22:31.428721Z"
    }
   },
   "cell_type": "code",
   "source": "",
   "id": "bb65c6ff5d92e638",
   "outputs": [],
   "execution_count": null
  },
  {
   "metadata": {
    "ExecuteTime": {
     "end_time": "2025-10-24T10:22:31.445914Z",
     "start_time": "2025-10-24T10:22:31.444102Z"
    }
   },
   "cell_type": "code",
   "source": "",
   "id": "8e302d916ea78b",
   "outputs": [],
   "execution_count": null
  }
 ],
 "metadata": {
  "kernelspec": {
   "display_name": "Python 3",
   "language": "python",
   "name": "python3"
  },
  "language_info": {
   "codemirror_mode": {
    "name": "ipython",
    "version": 2
   },
   "file_extension": ".py",
   "mimetype": "text/x-python",
   "name": "python",
   "nbconvert_exporter": "python",
   "pygments_lexer": "ipython2",
   "version": "2.7.6"
  }
 },
 "nbformat": 4,
 "nbformat_minor": 5
}
